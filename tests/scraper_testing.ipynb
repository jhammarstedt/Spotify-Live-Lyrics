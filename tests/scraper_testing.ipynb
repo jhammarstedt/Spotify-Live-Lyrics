{
 "cells": [
  {
   "cell_type": "code",
   "execution_count": 1,
   "metadata": {},
   "outputs": [],
   "source": [
    "import requests\n",
    "from bs4 import BeautifulSoup"
   ]
  },
  {
   "cell_type": "code",
   "execution_count": 2,
   "metadata": {},
   "outputs": [],
   "source": [
    "def parse_song(artist, song):\n",
    "    a_list = []\n",
    "    for i in artist:\n",
    "        a = \"%20\".join(i.lower().split(\" \"))\n",
    "        a_list.append(a)\n",
    "    \n",
    "    s = \"%20\".join(song.lower().split(\" \"))\n",
    "\n",
    "    return a_list[0], s"
   ]
  },
  {
   "cell_type": "code",
   "execution_count": 9,
   "metadata": {},
   "outputs": [],
   "source": [
    "def parse_lyrics(soup_object):\n",
    "    \"\"\"Function to find the lyrics from the soup object and clean it\"\"\"\n",
    "    lyrics = soup_object.find(id=\"ctl00_ContentPlaceHolder1_lbllyrics_simple\").text\n",
    "    \n",
    "    #process it a little\n",
    "    lyrics = lyrics.split(\"[\") #clean up the lyrics from format [time] lyrics [time] lyrics\n",
    "    title = lyrics[0].split(\"]\")[0] #get the title of the song\n",
    "    print(f\"Now playing {title}\")\n",
    "    lyrics = {s[0]:s[1] for s in [l.split(\"]\") for l in lyrics[1:]]}\n",
    "    lyrics = lyrics.items() #return it as a touple [(timestamp, lyric)]\n",
    "    return lyrics"
   ]
  },
  {
   "cell_type": "code",
   "execution_count": 13,
   "metadata": {},
   "outputs": [
    {
     "name": "stdout",
     "output_type": "stream",
     "text": [
      "OFFICIAL WAS FOUND https://www.rentanadviser.com/subtitles/getsubtitle.aspx?artist=Ed%20Sheeran&song=Shape%20Of%20You%20(Official%20Video)\n",
      "Now playing Ed Sheeran - Shape Of You (Official Video) Lyrics (.LRC) \n",
      "\n"
     ]
    }
   ],
   "source": [
    "def query_song(artist, song):\n",
    "    \"\"\"\n",
    "    Function to query the website for the results page given \n",
    "    artist and song when we cant find it right away\n",
    "    \"\"\"\n",
    "    search = f\"{artist}%20{song}\"\n",
    "    query_url = f\"https://www.rentanadviser.com/subtitles/subtitles4songs.aspx?q={search}\"\n",
    "    r = requests.get(query_url)\n",
    "    soup = BeautifulSoup(r.text, \"html.parser\")\n",
    "\n",
    "    table = soup.find(\"table\")\n",
    "    rows = table.find_all('tr')\n",
    "    output = []\n",
    "    for row in rows:\n",
    "        cols=row.find_all('td')\n",
    "        cols=[x for x in cols]\n",
    "        link = cols[0].a['href']\n",
    "        link = f\"https://www.rentanadviser.com/subtitles/{link}\"\n",
    "        if \"official\" in link.lower(): #only want the official version \n",
    "            print(\"OFFICIAL WAS FOUND\",link)\n",
    "            return cols,parse_lyrics(BeautifulSoup(requests.get(link).text, \"html.parser\"))\n",
    "        else:\n",
    "            output.append(link) #if we dont find an official we just append it\n",
    "    \n",
    "    # if we didnt find any  official we just return the first link through parse_lyrics\n",
    "    print(\"OFFICIAL WAS NOT FOUND\", output[0])\n",
    "    return cols,parse_lyrics(BeautifulSoup(requests.get(output[0]).text, \"html.parser\"))\n",
    "a,x= query_song(\"ed sheeran\",\"shape of you\")"
   ]
  },
  {
   "cell_type": "code",
   "execution_count": 18,
   "metadata": {},
   "outputs": [
    {
     "data": {
      "text/plain": [
       "bs4.element.Tag"
      ]
     },
     "execution_count": 18,
     "metadata": {},
     "output_type": "execute_result"
    }
   ],
   "source": [
    "type(a[0])"
   ]
  },
  {
   "cell_type": "code",
   "execution_count": 19,
   "metadata": {},
   "outputs": [
    {
     "data": {
      "text/plain": [
       "[<td><a href=\"getsubtitle.aspx?artist=Ed%20Sheeran&amp;song=Shape%20Of%20You%20(Official%20Video)\" target=\"_blank\"><img alt=\"subtitle icon\" src=\"../popular-music-videos/images/ccsub.png\"/> Ed Sheeran - Shape Of You (Official Video) </a> Lyrics &amp; Subtitles</td>]"
      ]
     },
     "execution_count": 19,
     "metadata": {},
     "output_type": "execute_result"
    }
   ],
   "source": [
    "a"
   ]
  },
  {
   "cell_type": "code",
   "execution_count": 54,
   "metadata": {},
   "outputs": [],
   "source": [
    "b = a[0].find(text=True).lower()"
   ]
  },
  {
   "cell_type": "code",
   "execution_count": 61,
   "metadata": {},
   "outputs": [
    {
     "ename": "TypeError",
     "evalue": "'type' object is not subscriptable",
     "output_type": "error",
     "traceback": [
      "\u001b[1;31m---------------------------------------------------------------------------\u001b[0m",
      "\u001b[1;31mTypeError\u001b[0m                                 Traceback (most recent call last)",
      "\u001b[1;32m<ipython-input-61-9feae2c9ef36>\u001b[0m in \u001b[0;36m<module>\u001b[1;34m()\u001b[0m\n\u001b[1;32m----> 1\u001b[1;33m \u001b[0ma\u001b[0m \u001b[1;33m=\u001b[0m \u001b[0mset\u001b[0m\u001b[1;33m[\u001b[0m\u001b[1;34m\"ed\"\u001b[0m\u001b[1;33m,\u001b[0m\u001b[1;34m\"shape of you\"\u001b[0m\u001b[1;33m]\u001b[0m\u001b[1;33m\u001b[0m\u001b[0m\n\u001b[0m",
      "\u001b[1;31mTypeError\u001b[0m: 'type' object is not subscriptable"
     ]
    }
   ],
   "source": [
    "a = set[\"ed\",\"shape of you\"]"
   ]
  },
  {
   "cell_type": "code",
   "execution_count": 58,
   "metadata": {},
   "outputs": [
    {
     "ename": "TypeError",
     "evalue": "'in <string>' requires string as left operand, not set",
     "output_type": "error",
     "traceback": [
      "\u001b[1;31m---------------------------------------------------------------------------\u001b[0m",
      "\u001b[1;31mTypeError\u001b[0m                                 Traceback (most recent call last)",
      "\u001b[1;32m<ipython-input-58-c2af8a794091>\u001b[0m in \u001b[0;36m<module>\u001b[1;34m()\u001b[0m\n\u001b[1;32m----> 1\u001b[1;33m \u001b[0ma\u001b[0m \u001b[1;32min\u001b[0m \u001b[0mb\u001b[0m\u001b[1;33m\u001b[0m\u001b[0m\n\u001b[0m",
      "\u001b[1;31mTypeError\u001b[0m: 'in <string>' requires string as left operand, not set"
     ]
    }
   ],
   "source": [
    "a in b"
   ]
  },
  {
   "cell_type": "code",
   "execution_count": null,
   "metadata": {},
   "outputs": [],
   "source": []
  }
 ],
 "metadata": {
  "kernelspec": {
   "display_name": "Python 3",
   "language": "python",
   "name": "python3"
  },
  "language_info": {
   "codemirror_mode": {
    "name": "ipython",
    "version": 3
   },
   "file_extension": ".py",
   "mimetype": "text/x-python",
   "name": "python",
   "nbconvert_exporter": "python",
   "pygments_lexer": "ipython3",
   "version": "3.7.0"
  }
 },
 "nbformat": 4,
 "nbformat_minor": 2
}
