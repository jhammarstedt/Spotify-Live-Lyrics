{
 "cells": [
  {
   "cell_type": "code",
   "execution_count": 6,
   "metadata": {},
   "outputs": [],
   "source": [
    "import requests\n",
    "from bs4 import BeautifulSoup"
   ]
  },
  {
   "cell_type": "code",
   "execution_count": 2,
   "metadata": {},
   "outputs": [],
   "source": [
    "def parse_song(artist, song):\n",
    "    a_list = []\n",
    "    for i in artist:\n",
    "        a = \"%20\".join(i.lower().split(\" \"))\n",
    "        a_list.append(a)\n",
    "    \n",
    "    s = \"%20\".join(song.lower().split(\" \"))\n",
    "\n",
    "    return a_list[0], s"
   ]
  },
  {
   "cell_type": "code",
   "execution_count": 31,
   "metadata": {},
   "outputs": [],
   "source": [
    "def query_song(artist, song)-> list():\n",
    "    #Function to query the website for the results page given artist and song when we cant find it right away\n",
    "    #! in progress\n",
    "    search = f\"{artist}%20{song}\"\n",
    "    query_url = f\"https://www.rentanadviser.com/subtitles/subtitles4songs.aspx?q={search}\"\n",
    "    r = requests.get(query_url)\n",
    "    soup = BeautifulSoup(r.text, \"html.parser\")\n",
    "\n",
    "    lyrics = soup.find(id=\"tablecontainer\")\n",
    "    #print(lyrics)\n",
    "    \n",
    "    # //*[@id=\"tablecontainer\"]/table/tbody/tr[1]/td/a\n",
    "\n",
    "    return lyrics"
   ]
  },
  {
   "cell_type": "code",
   "execution_count": 69,
   "metadata": {},
   "outputs": [],
   "source": [
    "#testing\n",
    "artist = [\"ed sheeran\"] #example artist\n",
    "song = \"shape of you\" #example song\n",
    "artist, song = parse_song(artist, song)\n",
    "lyrics = query_song(artist, song)\n",
    "#print(lyrics)\n",
    "\n",
    "search = f\"{artist}%20{song}\"\n",
    "query_url = f\"https://www.rentanadviser.com/subtitles/subtitles4songs.aspx?q={search}\"\n",
    "r = requests.get(query_url)\n",
    "soup = BeautifulSoup(r.text, \"html.parser\")\n",
    "\n",
    "\n",
    "#rows = table.find(['th', 'tr'])"
   ]
  },
  {
   "cell_type": "code",
   "execution_count": 135,
   "metadata": {},
   "outputs": [],
   "source": [
    "r = requests.get(\"https://www.rentanadviser.com/subtitles/getsubtitle.aspx?artist=Ed%20Sheeran&song=Shape%20of%20You%20(Live%20on%20the%20Honda%20Stage%20at%20the%20iHeartRadio%20Theater%20NY)\")"
   ]
  },
  {
   "cell_type": "code",
   "execution_count": 136,
   "metadata": {},
   "outputs": [],
   "source": [
    "s = BeautifulSoup(r.text,\"html.parser\")\n",
    "\n",
    "if \"error\" in s.b.text.lower():\n",
    "    print('hi')"
   ]
  },
  {
   "cell_type": "code",
   "execution_count": null,
   "metadata": {},
   "outputs": [],
   "source": []
  },
  {
   "cell_type": "code",
   "execution_count": 121,
   "metadata": {},
   "outputs": [
    {
     "name": "stdout",
     "output_type": "stream",
     "text": [
      "getsubtitle.aspx?artist=Ed%20Sheeran&song=Shape%20Of%20You%20(Official%20Video)\n",
      "['getsubtitle.aspx?artist=Ed%20Sheeran&song=Shape%20of%20You%20(Live%20on%20the%20Honda%20Stage%20at%20the%20iHeartRadio%20Theater%20NY)', 'getsubtitle.aspx?artist=Ed%20Sheeran&song=Shape%20Of%20You%20(Live)']\n"
     ]
    }
   ],
   "source": [
    "table = soup.find(\"table\")\n",
    "rows = table.find_all('tr')\n",
    "output = []\n",
    "for row in rows:\n",
    "    cols=row.find_all('td')\n",
    "    \n",
    "    cols=[x for x in cols]\n",
    "    link = cols[0].a['href']\n",
    "    if \"official\" in link.lower():\n",
    "        print(link)\n",
    "        break\n",
    "    else:\n",
    "        output.append(link) #if we dont find an official we just append it\n",
    "\n",
    "print(output)\n"
   ]
  },
  {
   "cell_type": "code",
   "execution_count": 113,
   "metadata": {},
   "outputs": [
    {
     "data": {
      "text/plain": [
       "[<td><a href=\"getsubtitle.aspx?artist=Ed%20Sheeran&amp;song=Shape%20of%20You%20(Live%20on%20the%20Honda%20Stage%20at%20the%20iHeartRadio%20Theater%20NY)\" target=\"_blank\"><img alt=\"subtitle icon\" src=\"../popular-music-videos/images/ccsub.png\"/> Ed Sheeran - Shape of You (Live on the Honda Stage at the iHeartRadio Theater NY) </a> Lyrics &amp; Subtitles</td>]"
      ]
     },
     "execution_count": 113,
     "metadata": {},
     "output_type": "execute_result"
    }
   ],
   "source": [
    "col = rows[0].find_all('td')\n",
    "col"
   ]
  },
  {
   "cell_type": "code",
   "execution_count": 49,
   "metadata": {},
   "outputs": [
    {
     "data": {
      "text/plain": [
       "1"
      ]
     },
     "execution_count": 49,
     "metadata": {},
     "output_type": "execute_result"
    }
   ],
   "source": []
  },
  {
   "cell_type": "code",
   "execution_count": null,
   "metadata": {},
   "outputs": [],
   "source": []
  }
 ],
 "metadata": {
  "kernelspec": {
   "display_name": "Python 3",
   "language": "python",
   "name": "python3"
  },
  "language_info": {
   "codemirror_mode": {
    "name": "ipython",
    "version": 3
   },
   "file_extension": ".py",
   "mimetype": "text/x-python",
   "name": "python",
   "nbconvert_exporter": "python",
   "pygments_lexer": "ipython3",
   "version": "3.7.0"
  }
 },
 "nbformat": 4,
 "nbformat_minor": 2
}
